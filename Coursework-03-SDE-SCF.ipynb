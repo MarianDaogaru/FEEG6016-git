{
 "cells": [
  {
   "cell_type": "markdown",
   "metadata": {},
   "source": [
    "# Coursework 3"
   ]
  },
  {
   "cell_type": "markdown",
   "metadata": {},
   "source": [
    "Complete both tasks, using either a notebook or a Python script. Marks will be given for\n",
    "\n",
    "* Correct implementation of algorithms to solve the tasks (10/20)\n",
    "* Complete documentation of code, especially functions, and discussion of results (6/20)\n",
    "* Unit tests and/or code robustness through eg assertions, as appropriate (4/20)"
   ]
  },
  {
   "cell_type": "code",
   "execution_count": null,
   "metadata": {
    "collapsed": true
   },
   "outputs": [],
   "source": [
    "import numpy"
   ]
  },
  {
   "cell_type": "markdown",
   "metadata": {},
   "source": [
    "## Stochastic Differential Equations - Ornstein-Ühlenbeck problem"
   ]
  },
  {
   "cell_type": "markdown",
   "metadata": {},
   "source": [
    "Consider the Ornstein-Uhlenbeck problem\n",
    "$$\n",
    "  \\text{d}X = -\\lambda X \\, \\text{d}t + \\mu \\, \\text{d}W.\n",
    "$$\n",
    "\n",
    "Its solution is\n",
    "$$\n",
    "  X(t) = e^{-\\lambda t} X_0 + \\mu \\int_0^t e^{-\\lambda (t - s)} \\, \\text{d}W(s).\n",
    "$$\n",
    "\n",
    "In addition, we can calculate $\\mathbb{E}(X)$ and $\\mathbb{E}(X^2)$ as\n",
    "$$\n",
    "\\begin{align}\n",
    "  \\mathbb{E}(X) & = e^{-\\lambda t} X_0, \\\\\n",
    "  \\mathbb{E}(X^2) & = e^{-2\\lambda t} X_0^2 + \\frac{\\mu^2}{2 \\lambda} \\left( 1 - e^{-2 \\lambda t} \\right).\n",
    "\\end{align}\n",
    "$$\n",
    "In particular we can show that\n",
    "$$\n",
    "  \\lim_{t \\to \\infty} X \\sim N \\left( 0, \\frac{\\mu^2}{2 \\lambda} \\right):\n",
    "$$\n",
    "that is, for late enough time the solution follows a normal distribution."
   ]
  },
  {
   "cell_type": "markdown",
   "metadata": {},
   "source": [
    "### Tasks"
   ]
  },
  {
   "cell_type": "markdown",
   "metadata": {},
   "source": [
    "1. Solve the Ornstein-Ühlenbeck problem using the Euler-Maruyama method. Use $X_0 = 1, \\lambda=1, \\mu=1$ and solve to end time $T=1$. Using $\\delta t = 2^{- \\left(4, \\dots, 10\\right)}$ check the weak order of convergence by looking at the error in $X^2$.\n",
    "2. Plot a histogram of $X(10)$ for $10^5$ realizations with $\\delta t = 2^{-7}$, using Euler-Maruyama. How is it distributed?\n",
    "3. By computing the mean of $X^2(T)$ (which is the variance), check that \n",
    "$$\n",
    "  X^{(h)}(T) \\sim N \\left( 0, \\frac{\\mu^2}{2 \\lambda - \\lambda^2 \\, \\delta t} \\right)\n",
    "$$\n",
    "for $T=10$ (which is meant to represent \"large\" $T$).\n",
    "4. Repeat these steps for the theta method\n",
    "$$\n",
    "  X_{n+1} = X_n - \\lambda \\, \\delta t \\, \\theta X_{n+1} - \\lambda \\, \\delta t \\, (1 - \\theta) X_n + \\mu \\, \\text{d}W_n\n",
    "$$\n",
    "for $\\theta=1/2$. Why is it different?"
   ]
  },
  {
   "cell_type": "code",
   "execution_count": null,
   "metadata": {
    "collapsed": true
   },
   "outputs": [],
   "source": []
  },
  {
   "cell_type": "markdown",
   "metadata": {},
   "source": [
    "## Self consistent fields - Water"
   ]
  },
  {
   "cell_type": "markdown",
   "metadata": {},
   "source": [
    "Perform the self-consistent field calculation for a water molecule, $\\text{H}_2\\text{O}$."
   ]
  },
  {
   "cell_type": "markdown",
   "metadata": {},
   "source": [
    "### Parameters"
   ]
  },
  {
   "cell_type": "markdown",
   "metadata": {},
   "source": [
    "The locations of the atoms are:"
   ]
  },
  {
   "cell_type": "code",
   "execution_count": null,
   "metadata": {
    "collapsed": true
   },
   "outputs": [],
   "source": [
    "R_O = [0.0, 1.809*numpy.cos(104.52/180.0*numpy.pi/2.0), 0.0]\n",
    "R_H1 = [-1.809*numpy.sin(104.52/180.0*numpy.pi/2.0), 0.0, 0.0]\n",
    "R_H2 = [+1.809*numpy.sin(104.52/180.0*numpy.pi/2.0), 0.0, 0.0]"
   ]
  },
  {
   "cell_type": "markdown",
   "metadata": {},
   "source": [
    "The nuclear repulsion energy is:"
   ]
  },
  {
   "cell_type": "code",
   "execution_count": null,
   "metadata": {
    "collapsed": true
   },
   "outputs": [],
   "source": [
    "Vnn = 8.90770810"
   ]
  },
  {
   "cell_type": "markdown",
   "metadata": {},
   "source": [
    "The overlap matrix is:"
   ]
  },
  {
   "cell_type": "code",
   "execution_count": null,
   "metadata": {
    "collapsed": true
   },
   "outputs": [],
   "source": [
    "S = numpy.array([[ 1.       ,  0.2367039,  0.       ,  0.       , -0.       ,\n",
    "         0.0500137,  0.0500137],\n",
    "       [ 0.2367039,  1.       ,  0.       ,  0.       , -0.       ,\n",
    "         0.4539953,  0.4539953],\n",
    "       [ 0.       ,  0.       ,  1.       ,  0.       ,  0.       ,\n",
    "         0.       ,  0.       ],\n",
    "       [ 0.       ,  0.       ,  0.       ,  1.       ,  0.       ,\n",
    "         0.2927386, -0.2927386],\n",
    "       [-0.       , -0.       ,  0.       ,  0.       ,  1.       ,\n",
    "         0.2455507,  0.2455507],\n",
    "       [ 0.0500137,  0.4539953,  0.       ,  0.2927386,  0.2455507,\n",
    "         1.       ,  0.2510021],\n",
    "       [ 0.0500137,  0.4539953,  0.       , -0.2927386,  0.2455507,\n",
    "         0.2510021,  1.       ]])"
   ]
  },
  {
   "cell_type": "markdown",
   "metadata": {},
   "source": [
    "The core Hamiltonian is:"
   ]
  },
  {
   "cell_type": "code",
   "execution_count": null,
   "metadata": {
    "collapsed": true
   },
   "outputs": [],
   "source": [
    "H = numpy.array([[ -3.26850823e+01,  -7.60432270e+00,   0.00000000e+00,\n",
    "          0.00000000e+00,  -1.86797000e-02,  -1.61960350e+00,\n",
    "         -1.61960350e+00],\n",
    "       [ -7.60432270e+00,  -9.30206280e+00,   0.00000000e+00,\n",
    "          0.00000000e+00,  -2.22159800e-01,  -3.54321070e+00,\n",
    "         -3.54321070e+00],\n",
    "       [  0.00000000e+00,   0.00000000e+00,  -7.43083560e+00,\n",
    "          0.00000000e+00,   0.00000000e+00,   0.00000000e+00,\n",
    "          0.00000000e+00],\n",
    "       [  0.00000000e+00,   0.00000000e+00,   0.00000000e+00,\n",
    "         -7.56702220e+00,   0.00000000e+00,  -1.89085610e+00,\n",
    "          1.89085610e+00],\n",
    "       [ -1.86797000e-02,  -2.22159800e-01,   0.00000000e+00,\n",
    "          0.00000000e+00,  -7.52665570e+00,  -1.65878930e+00,\n",
    "         -1.65878930e+00],\n",
    "       [ -1.61960350e+00,  -3.54321070e+00,   0.00000000e+00,\n",
    "         -1.89085610e+00,  -1.65878930e+00,  -4.95649010e+00,\n",
    "         -1.56026360e+00],\n",
    "       [ -1.61960350e+00,  -3.54321070e+00,   0.00000000e+00,\n",
    "          1.89085610e+00,  -1.65878930e+00,  -1.56026360e+00,\n",
    "         -4.95649010e+00]])"
   ]
  },
  {
   "cell_type": "markdown",
   "metadata": {},
   "source": [
    "The number of electrons is:"
   ]
  },
  {
   "cell_type": "code",
   "execution_count": null,
   "metadata": {
    "collapsed": true
   },
   "outputs": [],
   "source": [
    "Nelectrons = 10"
   ]
  },
  {
   "cell_type": "markdown",
   "metadata": {},
   "source": [
    "The two electron integrals are given in the data file:"
   ]
  },
  {
   "cell_type": "code",
   "execution_count": null,
   "metadata": {
    "collapsed": true
   },
   "outputs": [],
   "source": [
    "G=numpy.fromfile('./data/H2O-two-electron.dat')\n",
    "G = numpy.reshape(G,(7,7,7,7));"
   ]
  },
  {
   "cell_type": "markdown",
   "metadata": {},
   "source": [
    "### Plotting"
   ]
  },
  {
   "cell_type": "markdown",
   "metadata": {},
   "source": [
    "There is useful information contained in the basis functions. The calculations here used the *STO-3G* basis, which are Gaussians with carefully chosen coefficients. There is one basis function per atomic orbital: so one for each hydrogen (the \"1s\" orbital) and five for the oxygen (one for the \"1s\" orbital, one for the \"2s\" orbital, and three for the \"2p\" orbitals - one for each Cartesian direction, associated with the quantum spins). Each basis function is written\n",
    "$$\n",
    "  \\tilde{\\chi} (r) = \\sum_{i=1}^3 c_{i} \\left( \\frac{2 \\alpha_i}{\\pi} \\right)^{3/4} e^{-\\alpha_i r^2},\n",
    "$$\n",
    "where $r$ is the distance to the nucleus of this particular atom, and the $c_i, \\alpha_i$ coefficients depend on the atom and the orbital.\n",
    "\n",
    "For the \"1s\" orbitals the values of the coefficients are\n",
    "$$\n",
    "\\begin{align}\n",
    "  c_1 &= 0.444635, & c_2 &= 0.535328, & c_3 &= 0.154329, \\\\\n",
    "  \\alpha_1 &= 0.109818 \\zeta_1^2, & \\alpha_2 &= 0.405771 \\zeta_1^2, & \\alpha_3 &= 2.22766 \\zeta_1^2.\n",
    "\\end{align}\n",
    "$$\n",
    "Here $\\zeta_1 = 1.24$ for hydrogen and $\\zeta_1 = 7.66$ for oxygen.\n",
    "\n",
    "For the \"2s\" orbital the coefficients are\n",
    "$$\n",
    "\\begin{align}\n",
    "  c_1 &= 0.700115, & c_2 &= 0.399513, & c_3 &= -0.0999672, \\\\\n",
    "  \\alpha_1 &= 0.0751386 \\zeta_2^2, & \\alpha_2 &= 0.231031 \\zeta_2^2, & \\alpha_3 &= 0.994203 \\zeta_2^2.\n",
    "\\end{align}\n",
    "$$\n",
    "Here $\\zeta_2 = 2.25$ for oxygen.\n",
    "\n",
    "Finally, for the \"2p\" orbital, the coefficients are\n",
    "$$\n",
    "\\begin{align}\n",
    "  c_1 &= 0.391957, & c_2 &= 0.607684, & c_3 &= 0.1559163, \\\\\n",
    "  \\alpha_1 &= 0.0751386 \\zeta_2^2, & \\alpha_2 &= 0.231031 \\zeta_2^2, & \\alpha_3 &= 0.994203 \\zeta_2^2.\n",
    "\\end{align}\n",
    "$$\n",
    "\n",
    "In the above matrices, the seven entries correspond to:\n",
    "$$\n",
    "\\begin{align}\n",
    "  0 &: \\text{Oxygen, 1s}, \\\\\n",
    "  1 &: \\text{Oxygen, 2s}, \\\\\n",
    "  2 &: \\text{Oxygen, 2p (x)}, \\\\\n",
    "  3 &: \\text{Oxygen, 2p (y)}, \\\\\n",
    "  4 &: \\text{Oxygen, 2p (z)}, \\\\\n",
    "  5 &: \\text{Hydrogen (1), 1s}, \\\\\n",
    "  6 &: \\text{Hydrogen (2), 1s}.\n",
    "\\end{align}\n",
    "$$"
   ]
  },
  {
   "cell_type": "markdown",
   "metadata": {},
   "source": [
    "### Constructing the full molecular orbitals"
   ]
  },
  {
   "cell_type": "markdown",
   "metadata": {},
   "source": [
    "Given these basis functions, the single orbital molecular orbitals can be constructed as\n",
    "$$\n",
    "  \\chi_i = \\sum_{\\mu=1}^K C_{i\\mu} \\tilde{\\chi}_{\\mu}.\n",
    "$$\n",
    "The iso-surfaces of the molecular orbitals give useful information about the reaction properties of the molecule."
   ]
  },
  {
   "cell_type": "markdown",
   "metadata": {},
   "source": [
    "### Tasks"
   ]
  },
  {
   "cell_type": "markdown",
   "metadata": {},
   "source": [
    "1. Compute the total energy using the self-consistent field method. Ensure that your code prints the energy to the screen and returns the basis coefficients $C$ for later use.\n",
    "2. Construct the molecular orbitals and plot isocontours of each in the $x-y$ plane."
   ]
  },
  {
   "cell_type": "code",
   "execution_count": null,
   "metadata": {
    "collapsed": true
   },
   "outputs": [],
   "source": []
  }
 ],
 "metadata": {
  "anaconda-cloud": {},
  "kernelspec": {
   "display_name": "Python [conda root]",
   "language": "python",
   "name": "conda-root-py"
  },
  "language_info": {
   "codemirror_mode": {
    "name": "ipython",
    "version": 3
   },
   "file_extension": ".py",
   "mimetype": "text/x-python",
   "name": "python",
   "nbconvert_exporter": "python",
   "pygments_lexer": "ipython3",
   "version": "3.4.5"
  }
 },
 "nbformat": 4,
 "nbformat_minor": 0
}
